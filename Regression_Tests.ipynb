{
 "cells": [
  {
   "cell_type": "markdown",
   "metadata": {},
   "source": [
    "## regressing a new data set"
   ]
  },
  {
   "cell_type": "code",
   "execution_count": 22,
   "metadata": {},
   "outputs": [],
   "source": [
    "import pandas as pd\n",
    "import numpy as np\n",
    "import matplotlib.pyplot as plt\n",
    "%matplotlib inline"
   ]
  },
  {
   "cell_type": "code",
   "execution_count": 23,
   "metadata": {},
   "outputs": [
    {
     "data": {
      "text/html": [
       "<div>\n",
       "<style scoped>\n",
       "    .dataframe tbody tr th:only-of-type {\n",
       "        vertical-align: middle;\n",
       "    }\n",
       "\n",
       "    .dataframe tbody tr th {\n",
       "        vertical-align: top;\n",
       "    }\n",
       "\n",
       "    .dataframe thead th {\n",
       "        text-align: right;\n",
       "    }\n",
       "</style>\n",
       "<table border=\"1\" class=\"dataframe\">\n",
       "  <thead>\n",
       "    <tr style=\"text-align: right;\">\n",
       "      <th></th>\n",
       "      <th>Avg. Area Income</th>\n",
       "      <th>Avg. Area House Age</th>\n",
       "      <th>Avg. Area Number of Rooms</th>\n",
       "      <th>Avg. Area Number of Bedrooms</th>\n",
       "      <th>Area Population</th>\n",
       "      <th>Price</th>\n",
       "      <th>Address</th>\n",
       "    </tr>\n",
       "  </thead>\n",
       "  <tbody>\n",
       "    <tr>\n",
       "      <th>4998</th>\n",
       "      <td>68001.331235</td>\n",
       "      <td>5.534388</td>\n",
       "      <td>7.130144</td>\n",
       "      <td>5.44</td>\n",
       "      <td>42625.620156</td>\n",
       "      <td>1.198657e+06</td>\n",
       "      <td>USS Wallace\\nFPO AE 73316</td>\n",
       "    </tr>\n",
       "    <tr>\n",
       "      <th>4999</th>\n",
       "      <td>65510.581804</td>\n",
       "      <td>5.992305</td>\n",
       "      <td>6.792336</td>\n",
       "      <td>4.07</td>\n",
       "      <td>46501.283803</td>\n",
       "      <td>1.298950e+06</td>\n",
       "      <td>37778 George Ridges Apt. 509\\nEast Holly, NV 2...</td>\n",
       "    </tr>\n",
       "  </tbody>\n",
       "</table>\n",
       "</div>"
      ],
      "text/plain": [
       "      Avg. Area Income  Avg. Area House Age  Avg. Area Number of Rooms  \\\n",
       "4998      68001.331235             5.534388                   7.130144   \n",
       "4999      65510.581804             5.992305                   6.792336   \n",
       "\n",
       "      Avg. Area Number of Bedrooms  Area Population         Price  \\\n",
       "4998                          5.44     42625.620156  1.198657e+06   \n",
       "4999                          4.07     46501.283803  1.298950e+06   \n",
       "\n",
       "                                                Address  \n",
       "4998                          USS Wallace\\nFPO AE 73316  \n",
       "4999  37778 George Ridges Apt. 509\\nEast Holly, NV 2...  "
      ]
     },
     "execution_count": 23,
     "metadata": {},
     "output_type": "execute_result"
    }
   ],
   "source": [
    "df = pd.read_csv('USA_Housing.csv')\n",
    "df.tail(2)"
   ]
  },
  {
   "cell_type": "code",
   "execution_count": 25,
   "metadata": {},
   "outputs": [
    {
     "data": {
      "text/plain": [
       "<matplotlib.axes._subplots.AxesSubplot at 0x121b40978>"
      ]
     },
     "execution_count": 25,
     "metadata": {},
     "output_type": "execute_result"
    },
    {
     "data": {
      "image/png": "[encoded data removed]",
      "text/plain": [
       "<Figure size 432x288 with 1 Axes>"
      ]
     },
     "metadata": {
      "needs_background": "light"
     },
     "output_type": "display_data"
    }
   ],
   "source": [
    "#we'll try to predict price based on these other features\n",
    "y = df['Price']\n",
    "x = df[['Avg. Area Income', 'Avg. Area House Age', 'Avg. Area Number of Rooms',\n",
    "       'Avg. Area Number of Bedrooms', 'Area Population']]\n",
    "\n",
    "import seaborn as sns\n",
    "sns.distplot(df['Price'])"
   ]
  },
  {
   "cell_type": "code",
   "execution_count": 26,
   "metadata": {},
   "outputs": [],
   "source": [
    "#use a library to split the dataset\n",
    "from sklearn.model_selection import train_test_split"
   ]
  },
  {
   "cell_type": "code",
   "execution_count": 27,
   "metadata": {},
   "outputs": [],
   "source": [
    "x_train, x_test, y_train, y_test = train_test_split(x,y,test_size=.4,random_state=101)"
   ]
  },
  {
   "cell_type": "code",
   "execution_count": 28,
   "metadata": {},
   "outputs": [],
   "source": [
    "#had to simplify column names to get the smf.ols formula to run\n",
    "linmoddf = pd.DataFrame(columns=['Price','AvgAreaIncome','AvgAreaHouseAge','AvgAreaNumberofRooms','AvgAreaNumberofBedrooms','AreaPopulation'])\n",
    "\n",
    "linmoddf['Price'] = y_train\n",
    "linmoddf['AvgAreaIncome'] = x_train['Avg. Area Income']\n",
    "linmoddf['AvgAreaHouseAge'] = x_train['Avg. Area House Age']\n",
    "linmoddf['AvgAreaNumberofRooms'] = x_train['Avg. Area Number of Rooms']\n",
    "linmoddf['AvgAreaNumberofBedrooms'] = x_train['Avg. Area Number of Bedrooms']\n",
    "linmoddf['AreaPopulation'] = x_train['Area Population']"
   ]
  },
  {
   "cell_type": "code",
   "execution_count": 29,
   "metadata": {},
   "outputs": [
    {
     "data": {
      "text/html": [
       "<div>\n",
       "<style scoped>\n",
       "    .dataframe tbody tr th:only-of-type {\n",
       "        vertical-align: middle;\n",
       "    }\n",
       "\n",
       "    .dataframe tbody tr th {\n",
       "        vertical-align: top;\n",
       "    }\n",
       "\n",
       "    .dataframe thead th {\n",
       "        text-align: right;\n",
       "    }\n",
       "</style>\n",
       "<table border=\"1\" class=\"dataframe\">\n",
       "  <thead>\n",
       "    <tr style=\"text-align: right;\">\n",
       "      <th></th>\n",
       "      <th>Price</th>\n",
       "      <th>AvgAreaIncome</th>\n",
       "      <th>AvgAreaHouseAge</th>\n",
       "      <th>AvgAreaNumberofRooms</th>\n",
       "      <th>AvgAreaNumberofBedrooms</th>\n",
       "      <th>AreaPopulation</th>\n",
       "    </tr>\n",
       "  </thead>\n",
       "  <tbody>\n",
       "    <tr>\n",
       "      <th>1303</th>\n",
       "      <td>1.489648e+06</td>\n",
       "      <td>68091.179676</td>\n",
       "      <td>5.364208</td>\n",
       "      <td>7.502956</td>\n",
       "      <td>3.10</td>\n",
       "      <td>44557.379656</td>\n",
       "    </tr>\n",
       "    <tr>\n",
       "      <th>1051</th>\n",
       "      <td>1.183015e+06</td>\n",
       "      <td>75729.765546</td>\n",
       "      <td>5.580599</td>\n",
       "      <td>7.642973</td>\n",
       "      <td>4.21</td>\n",
       "      <td>29996.018448</td>\n",
       "    </tr>\n",
       "  </tbody>\n",
       "</table>\n",
       "</div>"
      ],
      "text/plain": [
       "             Price  AvgAreaIncome  AvgAreaHouseAge  AvgAreaNumberofRooms  \\\n",
       "1303  1.489648e+06   68091.179676         5.364208              7.502956   \n",
       "1051  1.183015e+06   75729.765546         5.580599              7.642973   \n",
       "\n",
       "      AvgAreaNumberofBedrooms  AreaPopulation  \n",
       "1303                     3.10    44557.379656  \n",
       "1051                     4.21    29996.018448  "
      ]
     },
     "execution_count": 29,
     "metadata": {},
     "output_type": "execute_result"
    }
   ],
   "source": [
    "linmoddf.head(2)"
   ]
  },
  {
   "cell_type": "code",
   "execution_count": 30,
   "metadata": {},
   "outputs": [],
   "source": [
    "#use sms.ols library for regression to get easy test statistics\n",
    "import statsmodels.formula.api as smf\n",
    "\n",
    "linear_formula = 'Price ~ AvgAreaIncome + AvgAreaHouseAge + AvgAreaNumberofRooms + AvgAreaNumberofBedrooms + AreaPopulation'\n",
    "linmod = smf.ols(formula=linear_formula, data=linmoddf).fit()\n",
    "predict = linmod.predict(linmoddf)"
   ]
  },
  {
   "cell_type": "code",
   "execution_count": 31,
   "metadata": {},
   "outputs": [
    {
     "data": {
      "text/plain": [
       "0.9181223200568411"
      ]
     },
     "execution_count": 31,
     "metadata": {},
     "output_type": "execute_result"
    }
   ],
   "source": [
    "linmod.rsquared"
   ]
  },
  {
   "cell_type": "code",
   "execution_count": 32,
   "metadata": {},
   "outputs": [],
   "source": [
    "#Rsquared good"
   ]
  },
  {
   "cell_type": "code",
   "execution_count": 33,
   "metadata": {},
   "outputs": [
    {
     "data": {
      "text/plain": [
       "Intercept                  0.000000\n",
       "AvgAreaIncome              0.000000\n",
       "AvgAreaHouseAge            0.000000\n",
       "AvgAreaNumberofRooms       0.000000\n",
       "AvgAreaNumberofBedrooms    0.184523\n",
       "AreaPopulation             0.000000\n",
       "dtype: float64"
      ]
     },
     "execution_count": 33,
     "metadata": {},
     "output_type": "execute_result"
    }
   ],
   "source": [
    "linmod.pvalues"
   ]
  },
  {
   "cell_type": "code",
   "execution_count": 34,
   "metadata": {},
   "outputs": [],
   "source": [
    "#obviously this is a toy data set. Number of Bedroms can be dropped\n",
    "#let's check performance on test data first"
   ]
  },
  {
   "cell_type": "markdown",
   "metadata": {},
   "source": [
    "## checking performance on test data"
   ]
  },
  {
   "cell_type": "code",
   "execution_count": 35,
   "metadata": {},
   "outputs": [],
   "source": [
    "testdf = pd.DataFrame(columns=['Price','AvgAreaIncome','AvgAreaHouseAge','AvgAreaNumberofRooms','AvgAreaNumberofBedrooms','AreaPopulation'])\n",
    "\n",
    "testdf['Price'] = y_test\n",
    "testdf['AvgAreaIncome'] = x_test['Avg. Area Income']\n",
    "testdf['AvgAreaHouseAge'] = x_test['Avg. Area House Age']\n",
    "testdf['AvgAreaNumberofRooms'] = x_test['Avg. Area Number of Rooms']\n",
    "testdf['AvgAreaNumberofBedrooms'] = x_test['Avg. Area Number of Bedrooms']\n",
    "testdf['AreaPopulation'] = x_test['Area Population']"
   ]
  },
  {
   "cell_type": "code",
   "execution_count": 36,
   "metadata": {},
   "outputs": [],
   "source": [
    "predict = linmod.predict(testdf)"
   ]
  },
  {
   "cell_type": "code",
   "execution_count": 37,
   "metadata": {},
   "outputs": [
    {
     "data": {
      "text/plain": [
       "<matplotlib.collections.PathCollection at 0x121826710>"
      ]
     },
     "execution_count": 37,
     "metadata": {},
     "output_type": "execute_result"
    },
    {
     "data": {
      "image/png": "[encoded data removed]",
      "text/plain": [
       "<Figure size 432x288 with 1 Axes>"
      ]
     },
     "metadata": {
      "needs_background": "light"
     },
     "output_type": "display_data"
    }
   ],
   "source": [
    "plt.scatter(y_test,predict)"
   ]
  },
  {
   "cell_type": "code",
   "execution_count": 40,
   "metadata": {},
   "outputs": [
    {
     "data": {
      "text/plain": [
       "<matplotlib.axes._subplots.AxesSubplot at 0x1218efe48>"
      ]
     },
     "execution_count": 40,
     "metadata": {},
     "output_type": "execute_result"
    },
    {
     "data": {
      "image/png": "[encoded data removed]",
      "text/plain": [
       "<Figure size 432x288 with 1 Axes>"
      ]
     },
     "metadata": {
      "needs_background": "light"
     },
     "output_type": "display_data"
    }
   ],
   "source": [
    "#looks good\n",
    "sns.distplot(y_test - predict)"
   ]
  },
  {
   "cell_type": "code",
   "execution_count": 42,
   "metadata": {},
   "outputs": [
    {
     "data": {
      "text/plain": [
       "10460958907.209688"
      ]
     },
     "execution_count": 42,
     "metadata": {},
     "output_type": "execute_result"
    }
   ],
   "source": [
    "#new library for evaluation metrics\n",
    "from sklearn import metrics\n",
    "\n",
    "metrics.mean_squared_error(y_test,predict)"
   ]
  },
  {
   "cell_type": "code",
   "execution_count": 43,
   "metadata": {},
   "outputs": [],
   "source": [
    "#how to think about if this is good or bad?"
   ]
  },
  {
   "cell_type": "code",
   "execution_count": 108,
   "metadata": {},
   "outputs": [],
   "source": [
    "import pandas as pd\n",
    "import numpy as np\n",
    "import sklearn\n",
    "\n",
    "from statsmodels.sandbox.regression.predstd import wls_prediction_std"
   ]
  },
  {
   "cell_type": "markdown",
   "metadata": {},
   "source": [
    "## dimensionality reduction / PLS"
   ]
  },
  {
   "cell_type": "code",
   "execution_count": 49,
   "metadata": {},
   "outputs": [
    {
     "name": "stdout",
     "output_type": "stream",
     "text": [
      "R-squared PLSR: 0.9180955063953449  Prior R-squared: 0.9181223200568411\n"
     ]
    }
   ],
   "source": [
    "#let's try a PLS regression. we know 5 features should perform well\n",
    "from sklearn.cross_decomposition import PLSRegression\n",
    "\n",
    "pls1 = PLSRegression(n_components=5)\n",
    "pls1.fit(x_test, y_test)\n",
    "Y_PLS_pred = pls1.predict(x_test)\n",
    "print('R-squared PLSR:', pls1.score(x_test, y_test), ' Prior R-squared:',linmod.rsquared)"
   ]
  },
  {
   "cell_type": "code",
   "execution_count": 50,
   "metadata": {},
   "outputs": [
    {
     "data": {
      "image/png": "[encoded data removed]",
      "text/plain": [
       "<Figure size 432x288 with 1 Axes>"
      ]
     },
     "metadata": {
      "needs_background": "light"
     },
     "output_type": "display_data"
    }
   ],
   "source": [
    "# Rsquared virtually unchanged. visual comparison\n",
    "plt.scatter(predict,Y_PLS_pred) \n",
    "plt.xlabel('Predicted by original 10 features')\n",
    "plt.ylabel('Predicted by 3 features')\n",
    "plt.title('Comparing LR and PLSR predictions')\n",
    "plt.show()"
   ]
  },
  {
   "cell_type": "code",
   "execution_count": 57,
   "metadata": {},
   "outputs": [
    {
     "name": "stdout",
     "output_type": "stream",
     "text": [
      "R-squared PLSR: 0.9180786551615857\n"
     ]
    },
    {
     "data": {
      "image/png": "[encoded data removed]",
      "text/plain": [
       "<Figure size 432x288 with 1 Axes>"
      ]
     },
     "metadata": {
      "needs_background": "light"
     },
     "output_type": "display_data"
    }
   ],
   "source": [
    "#let's try a PLS regression with 3 components\n",
    "from sklearn.cross_decomposition import PLSRegression\n",
    "\n",
    "pls2 = PLSRegression(n_components=3)\n",
    "pls2.fit(x_test, y_test)\n",
    "Y_PLS_pred2 = pls2.predict(x_test)\n",
    "print('R-squared PLSR:', pls2.score(x_test, y_test))\n",
    "\n",
    "# Compare the predictions of the two models\n",
    "plt.scatter(predict,Y_PLS_pred2) \n",
    "plt.xlabel('Predicted by original features')\n",
    "plt.ylabel('Predicted by 3 features')\n",
    "plt.title('Comparing LR and PLSR predictions')\n",
    "plt.show()"
   ]
  },
  {
   "cell_type": "code",
   "execution_count": 58,
   "metadata": {},
   "outputs": [
    {
     "name": "stdout",
     "output_type": "stream",
     "text": [
      "R-squared PLSR: 0.9150502366047417\n"
     ]
    },
    {
     "data": {
      "image/png": "[encoded data removed]",
      "text/plain": [
       "<Figure size 432x288 with 1 Axes>"
      ]
     },
     "metadata": {
      "needs_background": "light"
     },
     "output_type": "display_data"
    }
   ],
   "source": [
    "#let's try a PLS regression with 2 components\n",
    "from sklearn.cross_decomposition import PLSRegression\n",
    "\n",
    "pls3 = PLSRegression(n_components=2)\n",
    "pls3.fit(x_test, y_test)\n",
    "Y_PLS_pred2 = pls3.predict(x_test)\n",
    "print('R-squared PLSR:', pls3.score(x_test, y_test))\n",
    "\n",
    "# Compare the predictions of the two models\n",
    "plt.scatter(predict,Y_PLS_pred2) \n",
    "plt.xlabel('Predicted by original features')\n",
    "plt.ylabel('Predicted by 2 features')\n",
    "plt.title('Comparing LR and PLSR predictions')\n",
    "plt.show()"
   ]
  },
  {
   "cell_type": "code",
   "execution_count": 56,
   "metadata": {},
   "outputs": [],
   "source": [
    "#still seems really good"
   ]
  },
  {
   "cell_type": "code",
   "execution_count": 59,
   "metadata": {},
   "outputs": [
    {
     "name": "stdout",
     "output_type": "stream",
     "text": [
      "R-squared PLSR: 0.9150502366047417\n"
     ]
    },
    {
     "data": {
      "image/png": "[encoded data removed]",
      "text/plain": [
       "<Figure size 432x288 with 1 Axes>"
      ]
     },
     "metadata": {
      "needs_background": "light"
     },
     "output_type": "display_data"
    }
   ],
   "source": [
    "#let's try a PLS regression with 1 components\n",
    "from sklearn.cross_decomposition import PLSRegression\n",
    "\n",
    "pls4 = PLSRegression(n_components=2)\n",
    "pls4.fit(x_test, y_test)\n",
    "Y_PLS_pred2 = pls4.predict(x_test)\n",
    "print('R-squared PLSR:', pls4.score(x_test, y_test))\n",
    "\n",
    "# Compare the predictions of the two models\n",
    "plt.scatter(predict,Y_PLS_pred2) \n",
    "plt.xlabel('Predicted by original features')\n",
    "plt.ylabel('Predicted by 2 features')\n",
    "plt.title('Comparing LR and PLSR predictions')\n",
    "plt.show()"
   ]
  },
  {
   "cell_type": "code",
   "execution_count": 63,
   "metadata": {},
   "outputs": [
    {
     "data": {
      "text/plain": [
       "PLSRegression(copy=True, max_iter=500, n_components=2, scale=True, tol=1e-06)"
      ]
     },
     "execution_count": 63,
     "metadata": {},
     "output_type": "execute_result"
    }
   ],
   "source": [
    "pls4"
   ]
  },
  {
   "cell_type": "code",
   "execution_count": null,
   "metadata": {},
   "outputs": [],
   "source": []
  }
 ],
 "metadata": {
  "kernelspec": {
   "display_name": "Python 3",
   "language": "python",
   "name": "python3"
  },
  "language_info": {
   "codemirror_mode": {
    "name": "ipython",
    "version": 3
   },
   "file_extension": ".py",
   "mimetype": "text/x-python",
   "name": "python",
   "nbconvert_exporter": "python",
   "pygments_lexer": "ipython3",
   "version": "3.7.0"
  }
 },
 "nbformat": 4,
 "nbformat_minor": 2
}
